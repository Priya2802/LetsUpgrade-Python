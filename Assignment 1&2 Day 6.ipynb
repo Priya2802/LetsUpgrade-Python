{
 "cells": [
  {
   "cell_type": "markdown",
   "metadata": {},
   "source": [
    "# Assignment 1 Day 6\n",
    "# create bank account "
   ]
  },
  {
   "cell_type": "code",
   "execution_count": 1,
   "metadata": {},
   "outputs": [],
   "source": [
    "class bank:\n",
    "    def __init__(self,ownername,balance):\n",
    "        self.ownername = ownername\n",
    "        self.balance = balance\n",
    "\n",
    "    def deposit(self,amount):\n",
    "        self.balance +=amount\n",
    "        print(\"Your updated balance is :\", self.balance)\n",
    "        \n",
    "    def withdraw(self,amount):\n",
    "        if(self.balance>amount):\n",
    "            self.balance-=amount\n",
    "            print(\"Your updated balance is :\", self.balance)\n",
    "        else:\n",
    "            print(\"You don't have enough credit in your account,u have only\",self.balance)"
   ]
  },
  {
   "cell_type": "code",
   "execution_count": 2,
   "metadata": {},
   "outputs": [],
   "source": [
    "priya = bank(\"Priya\",50000)"
   ]
  },
  {
   "cell_type": "code",
   "execution_count": 3,
   "metadata": {},
   "outputs": [
    {
     "name": "stdout",
     "output_type": "stream",
     "text": [
      "Your updated balance is : 60000\n"
     ]
    }
   ],
   "source": [
    "priya.deposit(10000)"
   ]
  },
  {
   "cell_type": "code",
   "execution_count": 4,
   "metadata": {},
   "outputs": [
    {
     "name": "stdout",
     "output_type": "stream",
     "text": [
      "Your updated balance is : 55000\n"
     ]
    }
   ],
   "source": [
    "priya.withdraw(5000)"
   ]
  },
  {
   "cell_type": "code",
   "execution_count": 6,
   "metadata": {},
   "outputs": [
    {
     "name": "stdout",
     "output_type": "stream",
     "text": [
      "You don't have enough credit in your account,u have only 55000\n"
     ]
    }
   ],
   "source": [
    "priya.withdraw(65000)"
   ]
  },
  {
   "cell_type": "markdown",
   "metadata": {},
   "source": [
    "# Assignment 2 Day 6\n",
    "#create a cone class with two attributes"
   ]
  },
  {
   "cell_type": "code",
   "execution_count": 7,
   "metadata": {},
   "outputs": [],
   "source": [
    "import math\n",
    "class cone:\n",
    "    def __init__(self,radius,height):\n",
    "        self.radius=radius\n",
    "        self.height=height\n",
    "        \n",
    "    def volume(self):\n",
    "        vol = math.pi * (self.radius**2) * (self.height/3)\n",
    "        print(\"Volume of this cone is : \",vol)\n",
    "        \n",
    "    def surfaceArea(self):\n",
    "        area = math.pi* self.radius *(self.radius+(math.sqrt((self.radius**2)+(self.height**2))))\n",
    "        print(\"Surface area of this cone is \",area)"
   ]
  },
  {
   "cell_type": "code",
   "execution_count": 11,
   "metadata": {},
   "outputs": [],
   "source": [
    "conee = cone(3,6)"
   ]
  },
  {
   "cell_type": "code",
   "execution_count": 12,
   "metadata": {},
   "outputs": [
    {
     "name": "stdout",
     "output_type": "stream",
     "text": [
      "Volume of this cone is :  56.548667764616276\n"
     ]
    }
   ],
   "source": [
    "conee.volume()"
   ]
  },
  {
   "cell_type": "code",
   "execution_count": 13,
   "metadata": {},
   "outputs": [
    {
     "name": "stdout",
     "output_type": "stream",
     "text": [
      "Surface area of this cone is  91.49766646167468\n"
     ]
    }
   ],
   "source": [
    "conee.surfaceArea()"
   ]
  },
  {
   "cell_type": "code",
   "execution_count": null,
   "metadata": {},
   "outputs": [],
   "source": []
  }
 ],
 "metadata": {
  "kernelspec": {
   "display_name": "Python 3",
   "language": "python",
   "name": "python3"
  },
  "language_info": {
   "codemirror_mode": {
    "name": "ipython",
    "version": 3
   },
   "file_extension": ".py",
   "mimetype": "text/x-python",
   "name": "python",
   "nbconvert_exporter": "python",
   "pygments_lexer": "ipython3",
   "version": "3.8.3"
  }
 },
 "nbformat": 4,
 "nbformat_minor": 4
}
